{
 "cells": [
  {
   "cell_type": "code",
   "execution_count": 1,
   "id": "numerous-lesbian",
   "metadata": {},
   "outputs": [],
   "source": [
    "import numpy as np\n",
    "import run_continuum as run\n",
    "import matplotlib.pyplot as plt\n",
    "import scipy.signal"
   ]
  },
  {
   "cell_type": "markdown",
   "id": "digital-bonus",
   "metadata": {},
   "source": [
    "# Linear elastic fracture mechanics in 1D (dimensionless units)\n",
    "\n",
    "For predicting rupture arrest whem the rupture is crack-like, we can use linear elastic fracture mechanics, modified to the non-dimensional 1D system.\n",
    "\n",
    "Non-dimensional fracture energy: $\\bar \\Gamma = 0$\n",
    "\n",
    "Non-dimensional stress intensity factor: in 1D with static friciton stress is. Then the stress intensity factor takes the simple form\n",
    "$\\bar K (\\bar l) = \\int_0^{\\bar l} \\Delta \\bar \\tau(\\bar x) \\text{d} \\bar x$ (is there a factor 2 missing?)\n",
    "\n",
    "Non-dimensional stress drop: $\\Delta \\bar \\tau = \\frac{\\partial^2 \\bar u}{\\partial \\bar x ^2} + \\gamma \\bar u$\n",
    "\n",
    "\n",
    "If we only consider static effects, the arrest criterion is\n",
    "\n",
    "$\\bar K (\\bar l)<\\bar \\Gamma$\n",
    "\n",
    "Which is reduced to finding the smallest $\\bar l$ where\n",
    "$\\int_0^{\\bar l} \\Delta \\bar \\tau(\\bar x) \\text{d} \\bar x < 0$\n",
    "\n",
    "\n"
   ]
  },
  {
   "cell_type": "code",
   "execution_count": null,
   "id": "gross-development",
   "metadata": {},
   "outputs": [],
   "source": []
  }
 ],
 "metadata": {
  "kernelspec": {
   "display_name": "Python 3",
   "language": "python",
   "name": "python3"
  },
  "language_info": {
   "codemirror_mode": {
    "name": "ipython",
    "version": 3
   },
   "file_extension": ".py",
   "mimetype": "text/x-python",
   "name": "python",
   "nbconvert_exporter": "python",
   "pygments_lexer": "ipython3",
   "version": "3.7.2"
  }
 },
 "nbformat": 4,
 "nbformat_minor": 5
}
