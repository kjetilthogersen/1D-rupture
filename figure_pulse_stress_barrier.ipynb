{
 "cells": [
  {
   "cell_type": "code",
   "execution_count": 1,
   "id": "hidden-documentation",
   "metadata": {},
   "outputs": [],
   "source": [
    "generate_data = True"
   ]
  },
  {
   "cell_type": "markdown",
   "id": "magnetic-pointer",
   "metadata": {},
   "source": [
    "## Arrest phase diagram for pulses with stress barrier:\n",
    "\n",
    "We set up pulses for arrest using the steady state solution (choose $u(0) = 2\\tau/\\gamma$). This reduces the arrest length approximation to\n",
    "\n",
    "\\begin{equation}\n",
    "L_{arrest} = \\frac{2 \\log(\\frac{\\tau_{barrier} - \\tau}{\\tau_{barrier}})}{\\gamma}\n",
    "\\end{equation}\n",
    "\n",
    "In the following, we set up a fixed $\\gamma = 0.65$ and vary $\\tau$ and $\\tau_{barrier}$ to create a 2D phase diagram of the arrest length"
   ]
  },
  {
   "cell_type": "code",
   "execution_count": 2,
   "id": "dependent-screening",
   "metadata": {},
   "outputs": [],
   "source": [
    "import numpy as np\n",
    "import run_continuum as run\n",
    "import matplotlib.pyplot as plt\n",
    "import matplotlib.colors as colors\n",
    "import scipy.signal\n",
    "import scipy as scp\n",
    "import scipy.io as sio\n",
    "import pickle\n",
    "import warnings\n",
    "warnings.filterwarnings('ignore')\n",
    "\n",
    "from frictionlaws import SlipWeakeningFrictionLaw\n",
    "from predictions import *"
   ]
  },
  {
   "cell_type": "code",
   "execution_count": null,
   "id": "blank-matter",
   "metadata": {},
   "outputs": [],
   "source": [
    "gamma = 0.65\n",
    "barrier_x = 40\n",
    "dt = 1e-3\n",
    "tmax = 200\n",
    "beta = 1e-3\n",
    "output_interval = 50\n",
    "x = np.linspace(0,100,10000)\n",
    "\n",
    "if generate_data:\n",
    "    \n",
    "    tau_all = np.logspace(-2,0,25) #TODO: 25x25\n",
    "    tau_barrier_all = -np.logspace(-2,0,25)\n",
    "\n",
    "    L_arrest = np.zeros([np.size(tau_all),np.size(tau_barrier_all)])\n",
    "\n",
    "    data = []\n",
    "\n",
    "    for i in range(np.size(tau_all)):\n",
    "        for j in range(np.size(tau_barrier_all)):\n",
    "\n",
    "            tau = gauss(x,0,1)*(1-tau_all[i]) + tau_all[i]\n",
    "            tau[0]=1\n",
    "            tau[x>barrier_x]=tau_barrier_all[j]\n",
    "\n",
    "            # run\n",
    "            data.append(run.run_continuum(x = x, tau = tau, tau_minus = tau+2, dt = dt, output_interval = output_interval, gamma = gamma, tmax = tmax, beta = beta))\n",
    "\n",
    "            # Find L_arrest\n",
    "            L_arrest[i,j]=x[np.max(np.where(data[-1]['u'][:,-1]>0))]-barrier_x\n",
    "\n",
    "    pickle.dump({'data': data, 'L_arrest': L_arrest, 'tau_barrier_all': tau_barrier_all, 'tau_all': tau_all},  open( \"data/data_figure_pulse_stress_barrier.p\", \"wb\" ))\n",
    "else:\n",
    "    data = pickle.load( open( \"data/data_figure_pulse_stress_barrier.p\", \"rb\" ) )\n",
    "    L_arrest = data['L_arrest']\n",
    "    tau_all = data['tau_all']\n",
    "    tau_barrier_all = data['tau_barrier_all']\n",
    "        "
   ]
  },
  {
   "cell_type": "code",
   "execution_count": null,
   "id": "hybrid-dutch",
   "metadata": {},
   "outputs": [],
   "source": [
    "# Calculate prediction:\n",
    "tau_all_pred = np.logspace(-2,0,250)\n",
    "tau_barrier_all_pred = -np.logspace(-2,0,250)\n",
    "L_arrest_pred = np.zeros([np.size(tau_all_pred),np.size(tau_barrier_all_pred)])\n",
    "\n",
    "x_barrier = 40\n",
    "for i in range(np.size(tau_all_pred)):\n",
    "    for j in range(np.size(tau_barrier_all_pred)):\n",
    "        L_arrest_pred[i,j]=2/gamma*np.log((tau_barrier_all_pred[j]-tau_all_pred[i])/tau_barrier_all_pred[j])\n",
    "        "
   ]
  },
  {
   "cell_type": "code",
   "execution_count": null,
   "id": "frozen-warren",
   "metadata": {},
   "outputs": [],
   "source": [
    "plt.figure(figsize=(10,7))\n",
    "\n",
    "plt.subplot(2,2,1)\n",
    "L = L_arrest\n",
    "L[L<=1e-1]=1e-1\n",
    "plt.pcolormesh(-tau_barrier_all,tau_all,L,norm=colors.LogNorm(vmin=1e-1, vmax=50))\n",
    "plt.yscale('log')\n",
    "plt.xscale('log')\n",
    "plt.colorbar()\n",
    "plt.xlabel('$-\\\\tau_{barrier}$')\n",
    "plt.ylabel('$\\\\bar \\\\tau_0$')\n",
    "plt.title('$\\\\bar L_\\mathrm{arrest}$ (model)')\n",
    "\n",
    "plt.subplot(2,2,2)\n",
    "plt.pcolormesh(-tau_barrier_all_pred,tau_all_pred,L_arrest_pred,norm=colors.LogNorm(vmin=1e-1, vmax=50))\n",
    "plt.colorbar()\n",
    "plt.yscale('log')\n",
    "plt.xscale('log')\n",
    "plt.xlabel('$-\\\\tau_{barrier}$')\n",
    "plt.ylabel('$\\\\bar \\\\tau_0$')\n",
    "plt.title('$\\\\bar L_\\mathrm{arrest}$ (prediction)')\n",
    "\n",
    "plt.subplot(2,2,(3,4))\n",
    "x = np.linspace(0,100,1000)\n",
    "tau = gauss(x,0,1)*(1-.5) + .5\n",
    "tau[0]=1\n",
    "tau[x>barrier_x]=-.1\n",
    "data = run.run_continuum(x = x, tau = tau, tau_minus = tau+2, dt = dt, output_interval = output_interval, gamma = gamma, tmax = tmax, beta = beta)\n",
    "u_pred = PulsePrediction(startPos = 0, u = data['u'], x = data['x'],tau = data['tau'], gamma = data['gamma'],dc = 0)\n",
    "\n",
    "plt.plot(data['x'],data['u'][:,-1],label='$\\\\bar u$')\n",
    "plt.plot(data['x'],2*data['tau']/data['gamma'],label='$2\\\\bar \\\\tau/\\\\bar \\\\gamma$',linestyle='--')\n",
    "plt.plot(data['x'],u_pred,label='prediction',linestyle='-')    \n",
    "plt.xlabel('$\\\\bar x$')\n",
    "plt.ylabel('$\\\\bar u$')    \n",
    "plt.legend()\n",
    "plt.tight_layout()\n",
    "\n",
    "plt.savefig('arrest_length_tau.eps', format='eps')\n",
    "\n",
    "plt.show()"
   ]
  }
 ],
 "metadata": {
  "kernelspec": {
   "display_name": "Python 3",
   "language": "python",
   "name": "python3"
  },
  "language_info": {
   "codemirror_mode": {
    "name": "ipython",
    "version": 3
   },
   "file_extension": ".py",
   "mimetype": "text/x-python",
   "name": "python",
   "nbconvert_exporter": "python",
   "pygments_lexer": "ipython3",
   "version": "3.7.2"
  }
 },
 "nbformat": 4,
 "nbformat_minor": 5
}
