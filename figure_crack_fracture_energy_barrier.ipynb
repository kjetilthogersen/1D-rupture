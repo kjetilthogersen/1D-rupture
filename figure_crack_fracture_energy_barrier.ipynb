{
 "cells": [
  {
   "cell_type": "code",
   "execution_count": 1,
   "id": "narrative-broadcasting",
   "metadata": {},
   "outputs": [],
   "source": [
    "generate_data = True"
   ]
  },
  {
   "cell_type": "code",
   "execution_count": 1,
   "id": "coral-device",
   "metadata": {},
   "outputs": [],
   "source": [
    "import numpy as np\n",
    "import run_continuum as run\n",
    "import matplotlib.pyplot as plt\n",
    "import matplotlib.colors as colors\n",
    "import scipy.signal\n",
    "import scipy as scp\n",
    "import scipy.io as sio\n",
    "\n",
    "import warnings\n",
    "warnings.filterwarnings('ignore')\n",
    "\n",
    "from frictionlaws import SlipWeakeningFrictionLaw\n",
    "from predictions import *"
   ]
  },
  {
   "cell_type": "code",
   "execution_count": 4,
   "id": "english-baltimore",
   "metadata": {},
   "outputs": [
    {
     "name": "stdout",
     "output_type": "stream",
     "text": [
      "0\n",
      "1\n",
      "2\n",
      "3\n"
     ]
    },
    {
     "data": {
      "image/png": "[encoded data removed]",
      "text/plain": [
       "<Figure size 432x288 with 1 Axes>"
      ]
     },
     "metadata": {
      "needs_background": "light"
     },
     "output_type": "display_data"
    }
   ],
   "source": [
    "# Crack fracture energy arrest:\n",
    "dt = 1e-3\n",
    "tmax = 200\n",
    "gamma = 0.0\n",
    "beta = 1e-3\n",
    "output_interval = 100\n",
    "dataBarrier = []\n",
    "x_barrier = 10\n",
    "x = np.linspace(0,100,10000)\n",
    "dx = x[1]\n",
    "\n",
    "tau_all = np.logspace(-2,-.01,4)\n",
    "dc_all = np.logspace(-2,1,4)\n",
    "L_arrest = np.zeros([np.size(tau_all),np.size(dc_all)])\n",
    "\n",
    "for i in range(np.size(tau_all)):\n",
    "    print(i)\n",
    "    for j in range(np.size(dc_all)):\n",
    "\n",
    "        tau = gauss(x,0,.1)*(1-tau_all[i]) + tau_all[i]\n",
    "        tau[0]=1\n",
    "        dc = (dc_all[j]-1e-10)*gauss(x,x_barrier,.001) + 1e-10\n",
    "        dc[x>=x_barrier]=dc_all[j]\n",
    "        \n",
    "        # run\n",
    "        data = run.run_continuum(x = x, tau = tau, tau_minus = tau+2, dt = dt, output_interval = output_interval, gamma = gamma, tmax = tmax, beta = beta, bc='fixed',frictionLaw = SlipWeakeningFrictionLaw(dc=dc,delta_u = np.zeros(np.size(x))))\n",
    "\n",
    "        # Find L_arrest\n",
    "        try:\n",
    "            L_arrest[i,j] = np.max(x[np.sum(1-data['stuck'],1)>0])\n",
    "        except:\n",
    "            L_arrest[i,j]=np.max(x)"
   ]
  },
  {
   "cell_type": "code",
   "execution_count": 7,
   "id": "bigger-heath",
   "metadata": {},
   "outputs": [],
   "source": [
    "tau_all_pred = np.logspace(-2,-.01,25)\n",
    "dc_all_pred = np.logspace(-2,1,25)\n",
    "L_arrest_pred = np.zeros([np.size(tau_all_pred),np.size(dc_all_pred)])\n",
    "x_barrier_pred = 40"
   ]
  },
  {
   "cell_type": "code",
   "execution_count": 8,
   "id": "better-concrete",
   "metadata": {},
   "outputs": [
    {
     "data": {
      "image/png": "[encoded data removed]",
      "text/plain": [
       "<Figure size 720x504 with 5 Axes>"
      ]
     },
     "metadata": {
      "needs_background": "light"
     },
     "output_type": "display_data"
    }
   ],
   "source": [
    "%matplotlib inline\n",
    "fig = plt.figure(figsize=(10,7))\n",
    "plt.subplot(2,2,1)\n",
    "L = L_arrest-x_barrier\n",
    "L[L_arrest>=(np.max(x)-x_barrier-1)]=-1\n",
    "plt.pcolormesh(dc_all,tau_all,L,norm=colors.LogNorm(vmin=1e-2, vmax=100))\n",
    "plt.colorbar()\n",
    "#plt.plot(dc_all,(dc_all*gamma)**0.5,'r')\n",
    "plt.yscale('log')\n",
    "plt.xscale('log')\n",
    "plt.title('$\\\\bar L_\\mathrm{arrest}$ (model)')\n",
    "plt.xlabel('$\\\\bar d_c$')\n",
    "plt.ylabel('$\\\\bar \\\\tau_0$')\n",
    "\n",
    "dc_p = np.logspace(-2,1,1000)\n",
    "\n",
    "plt.subplot(2,2,2)\n",
    "L = L_arrest_pred-x_barrier_pred\n",
    "L[L_arrest_pred>=(np.max(x_pred)-x_barrier_pred)]=-1\n",
    "plt.pcolormesh(dc_all_pred,tau_all_pred,L,norm=colors.LogNorm(vmin=1e-2, vmax=100))\n",
    "plt.colorbar()\n",
    "plt.yscale('log')\n",
    "plt.xscale('log')\n",
    "plt.title('$\\\\bar L_\\mathrm{arrest}$ (prediction)')\n",
    "plt.xlabel('$\\\\bar d_c$')\n",
    "plt.ylabel('$\\\\bar \\\\tau_0$')\n",
    "\n",
    "dc_p = np.logspace(-2,1,1000)\n",
    "\n",
    "\n",
    "plt.subplot(2,2,(3,4))\n",
    "\n",
    "tau = gauss(x,0,.1)*(1-3e-2) + 3e-2\n",
    "tau[0]=1\n",
    "dc = (.1-1e-10)*gauss(x,x_barrier,.001) + 1e-10\n",
    "dc[x>=x_barrier]=.1\n",
    "data_plot = run.run_continuum(x = x,\n",
    "                              tau = tau,\n",
    "                              tau_minus = tau+2,\n",
    "                              dt = dt,\n",
    "                              output_interval = output_interval,\n",
    "                              gamma = gamma,\n",
    "                              tmax = tmax,\n",
    "                              beta = beta,\n",
    "                              bc='fixed',\n",
    "                              frictionLaw = SlipWeakeningFrictionLaw(dc=dc,delta_u = np.zeros(np.size(x))))\n",
    "\n",
    "plt.plot(x,data_plot['u'][:,-1], label = '$\\\\bar u$')\n",
    "plt.plot(x,tau*10, label = '$\\\\bar \\\\tau \\\\times 10$')\n",
    "plt.plot(x,dc*10, label = '$\\\\bar d_c \\\\times 10$')\n",
    "plt.xlabel('$\\\\bar x$')\n",
    "plt.ylabel('$\\\\bar u$, $\\\\bar \\\\tau \\\\times 10$, $\\\\bar d_c \\\\times 10$')\n",
    "plt.legend()\n",
    "plt.ylim([0,1.5])\n",
    "#plt.show()\n",
    "\n",
    "\n",
    "plt.tight_layout()"
   ]
  },
  {
   "cell_type": "code",
   "execution_count": null,
   "id": "detected-diagram",
   "metadata": {},
   "outputs": [],
   "source": []
  }
 ],
 "metadata": {
  "kernelspec": {
   "display_name": "Python 3",
   "language": "python",
   "name": "python3"
  },
  "language_info": {
   "codemirror_mode": {
    "name": "ipython",
    "version": 3
   },
   "file_extension": ".py",
   "mimetype": "text/x-python",
   "name": "python",
   "nbconvert_exporter": "python",
   "pygments_lexer": "ipython3",
   "version": "3.7.2"
  }
 },
 "nbformat": 4,
 "nbformat_minor": 5
}
