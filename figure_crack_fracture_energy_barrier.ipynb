{
 "cells": [
  {
   "cell_type": "code",
   "execution_count": 1,
   "id": "cross-margin",
   "metadata": {},
   "outputs": [],
   "source": [
    "generate_data = False"
   ]
  },
  {
   "cell_type": "code",
   "execution_count": 2,
   "id": "addressed-lawyer",
   "metadata": {},
   "outputs": [],
   "source": [
    "import numpy as np\n",
    "import run_continuum as run\n",
    "import matplotlib.pyplot as plt\n",
    "import matplotlib.colors as colors\n",
    "import scipy.signal\n",
    "import scipy as scp\n",
    "import scipy.io as sio\n",
    "\n",
    "import warnings\n",
    "warnings.filterwarnings('ignore')\n",
    "\n",
    "from frictionlaws import SlipWeakeningFrictionLaw\n",
    "from predictions import *\n",
    "\n",
    "import pickle"
   ]
  },
  {
   "cell_type": "code",
   "execution_count": 3,
   "id": "loved-leeds",
   "metadata": {},
   "outputs": [],
   "source": [
    "x = np.linspace(0,100,10000)\n",
    "\n",
    "if generate_data:\n",
    "    # Crack fracture energy arrest:\n",
    "    dt = 1e-3\n",
    "    tmax = 200\n",
    "    gamma = 0.0\n",
    "    beta = 1e-3\n",
    "    output_interval = 100\n",
    "    dataBarrier = []\n",
    "    x_barrier = 10\n",
    "    dx = x[1]\n",
    "    data = []    \n",
    "\n",
    "    tau_all = np.logspace(-2,-.01,25)\n",
    "    dc_all = np.logspace(-2,1,25)\n",
    "    L_arrest = np.zeros([np.size(tau_all),np.size(dc_all)])\n",
    "\n",
    "    for i in range(np.size(tau_all)):\n",
    "        print(i)\n",
    "        for j in range(np.size(dc_all)):\n",
    "\n",
    "            tau = gauss(x,0,.1)*(1-tau_all[i]) + tau_all[i]\n",
    "            tau[0]=1\n",
    "            dc = (dc_all[j]-1e-10)*gauss(x,x_barrier,.001) + 1e-10\n",
    "            dc[x>=x_barrier]=dc_all[j]\n",
    "\n",
    "            # run\n",
    "            data = run.run_continuum(x = x, tau = tau, tau_minus = tau+2, dt = dt, output_interval = output_interval, gamma = gamma, tmax = tmax, beta = beta, bc='fixed',frictionLaw = SlipWeakeningFrictionLaw(dc=dc,delta_u = np.zeros(np.size(x))))\n",
    "\n",
    "            # Find L_arrest\n",
    "            L_arrest[i,j] = np.max(x[np.sum(1-data['stuck'],1)>0])\n",
    "\n",
    "    pickle.dump({'x_barrier': x_barrier, 'tau_all': tau_all, 'dc_all': dc_all, 'L_arrest': L_arrest},  open( \"data/crack_fracture_energy.p\", \"wb\" ))            \n",
    "\n",
    "else:\n",
    "    data = pickle.load( open( \"data/crack_fracture_energy.p\", \"rb\" ) )\n",
    "    tau_all = data['tau_all']\n",
    "    dc_all = data['dc_all']\n",
    "    L_arrest = data['L_arrest']  \n",
    "    x_barrier = data['x_barrier']"
   ]
  },
  {
   "cell_type": "code",
   "execution_count": 4,
   "id": "proprietary-stadium",
   "metadata": {},
   "outputs": [],
   "source": [
    "tau_all_pred = np.logspace(-2,-.01,25)\n",
    "dc_all_pred = np.logspace(-2,1,25)\n",
    "L_arrest_pred = np.zeros([np.size(tau_all_pred),np.size(dc_all_pred)])\n",
    "x_barrier_pred = 40"
   ]
  },
  {
   "cell_type": "code",
   "execution_count": 5,
   "id": "parliamentary-bowling",
   "metadata": {},
   "outputs": [
    {
     "data": {
      "image/png": "[encoded data removed]",
      "text/plain": [
       "<Figure size 432x288 with 2 Axes>"
      ]
     },
     "metadata": {
      "needs_background": "light"
     },
     "output_type": "display_data"
    }
   ],
   "source": [
    "L = L_arrest-x_barrier\n",
    "L[L_arrest>=(np.max(x)-x_barrier-1)]=-1\n",
    "plt.pcolormesh(dc_all,tau_all,L,norm=colors.LogNorm(vmin=1e-2, vmax=100))\n",
    "plt.colorbar()\n",
    "#plt.plot(dc_all,(dc_all*gamma)**0.5,'r')\n",
    "plt.yscale('log')\n",
    "plt.xscale('log')\n",
    "plt.title('$\\\\bar L_\\mathrm{arrest}$ (model)')\n",
    "plt.xlabel('$\\\\bar d_c$')\n",
    "plt.ylabel('$\\\\bar \\\\tau_0$')\n",
    "plt.title('$\\\\bar L_\\mathrm{arrest}$ (model)')\n",
    "\n",
    "tau_plot = np.logspace(-2,-.25,100)\n",
    "dc_plot = (4*x_barrier/3)**2*(1-tau_plot**2)*(1-np.sqrt(1-tau_plot**2))\n",
    "tau_plot = tau_plot[dc_plot<=1e1]\n",
    "dc_plot = dc_plot[dc_plot<=1e1]\n",
    "tau_plot = tau_plot[dc_plot>=1e-2]\n",
    "dc_plot = dc_plot[dc_plot>=1e-2]\n",
    "\n",
    "plt.plot(dc_plot,tau_plot,'r')\n",
    "plt.clim([1e-2, 10])\n",
    "\n",
    "plt.savefig('figures/arrest_length_crack_fracture_energy.eps', format='eps')\n",
    "\n",
    "\n",
    "plt.show()"
   ]
  }
 ],
 "metadata": {
  "kernelspec": {
   "display_name": "Python 3",
   "language": "python",
   "name": "python3"
  },
  "language_info": {
   "codemirror_mode": {
    "name": "ipython",
    "version": 3
   },
   "file_extension": ".py",
   "mimetype": "text/x-python",
   "name": "python",
   "nbconvert_exporter": "python",
   "pygments_lexer": "ipython3",
   "version": "3.7.2"
  }
 },
 "nbformat": 4,
 "nbformat_minor": 5
}
